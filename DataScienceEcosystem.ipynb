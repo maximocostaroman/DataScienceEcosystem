{
 "cells": [
  {
   "cell_type": "markdown",
   "id": "a7c0a8cd-44c1-4b1e-a9be-dd4e8e3b6490",
   "metadata": {},
   "source": [
    "# Data Science Tools and Ecosystem"
   ]
  },
  {
   "cell_type": "markdown",
   "id": "1c333de2-c942-4b0e-9134-15f387779e85",
   "metadata": {},
   "source": [
    "In this notebook, Data Science Tools and Ecosystem are summarized."
   ]
  },
  {
   "cell_type": "markdown",
   "id": "bc004373-6da0-4317-acb4-1fd5a718c610",
   "metadata": {},
   "source": [
    "**Objectives:**\r\n",
    "- List popular languages for Data Science\r\n",
    "- Identify commonly used libraries in Data Science\r\n",
    "- Describe development environment open source tools\r\n",
    "- Demonstrate examples of evaluating arithmetic expressions in Python\r\n",
    "- Understand the ecosystem of Data Science tools\r\n"
   ]
  },
  {
   "cell_type": "markdown",
   "id": "45322366-cae3-492a-a4f8-589b72674c5f",
   "metadata": {},
   "source": [
    "## Author\n",
    "Maximo Costa Roman\n"
   ]
  },
  {
   "cell_type": "markdown",
   "id": "defb8230-4c34-463e-8e7f-943964cbbf48",
   "metadata": {},
   "source": [
    "Some of the popular languages that Data Scientists use are:\n",
    "1. Julia\n",
    "2. Java\n",
    "3. Python\n",
    "4. R\n",
    "5. SQL"
   ]
  },
  {
   "cell_type": "markdown",
   "id": "5309e4a1-dac7-4ae6-8851-e013f01c6e20",
   "metadata": {},
   "source": [
    "Some of the commonly used libraries used by Data Scientists include:\n",
    "1. NumPy\n",
    "2. Pandas\n",
    "3. Matplotlib\n",
    "4. Scikit-learn\n",
    "5. TensorFlow"
   ]
  },
  {
   "cell_type": "markdown",
   "id": "1ac51629-bc82-4bed-8f6c-e6f78b401040",
   "metadata": {},
   "source": [
    "| Data Science Tools           |\n",
    "|------------------------------|\n",
    "| Jupyter Notebook             |\n",
    "| RStudio                      |\n",
    "| Apache Zeppelin              |\n"
   ]
  },
  {
   "cell_type": "code",
   "execution_count": null,
   "id": "bbd18651-c8f7-4c79-9548-04665bfe2731",
   "metadata": {},
   "outputs": [],
   "source": []
  },
  {
   "cell_type": "markdown",
   "id": "d8c800a8-78a9-4f8d-af85-12c51ee60fb9",
   "metadata": {},
   "source": [
    "### Below are a few examples of evaluating arithmetic expressions in Python.\r\n"
   ]
  },
  {
   "cell_type": "code",
   "execution_count": 6,
   "id": "d0412155-374d-4fdf-9347-bed80bd3f42a",
   "metadata": {},
   "outputs": [
    {
     "data": {
      "text/plain": [
       "17"
      ]
     },
     "execution_count": 6,
     "metadata": {},
     "output_type": "execute_result"
    }
   ],
   "source": [
    "(3*4)+5"
   ]
  },
  {
   "cell_type": "markdown",
   "id": "1f09abee-4b42-479e-bd69-081485afbcbe",
   "metadata": {},
   "source": [
    "This will convert 200 minutes to hours by diving by 60"
   ]
  },
  {
   "cell_type": "code",
   "execution_count": 8,
   "id": "d15eb36f-39b7-47cb-9908-2255a7249664",
   "metadata": {},
   "outputs": [
    {
     "data": {
      "text/plain": [
       "3.3333333333333335"
      ]
     },
     "execution_count": 8,
     "metadata": {},
     "output_type": "execute_result"
    }
   ],
   "source": [
    "200/60"
   ]
  },
  {
   "cell_type": "code",
   "execution_count": null,
   "id": "e3528360-8b88-4776-bb6d-33d08ea28557",
   "metadata": {},
   "outputs": [],
   "source": []
  }
 ],
 "metadata": {
  "kernelspec": {
   "display_name": "Python 3 (ipykernel)",
   "language": "python",
   "name": "python3"
  },
  "language_info": {
   "codemirror_mode": {
    "name": "ipython",
    "version": 3
   },
   "file_extension": ".py",
   "mimetype": "text/x-python",
   "name": "python",
   "nbconvert_exporter": "python",
   "pygments_lexer": "ipython3",
   "version": "3.12.4"
  }
 },
 "nbformat": 4,
 "nbformat_minor": 5
}
